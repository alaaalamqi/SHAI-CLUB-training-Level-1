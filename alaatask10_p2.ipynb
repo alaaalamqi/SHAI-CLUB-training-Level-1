{
  "nbformat": 4,
  "nbformat_minor": 0,
  "metadata": {
    "kernelspec": {
      "display_name": "Python 3",
      "language": "python",
      "name": "python3"
    },
    "language_info": {
      "codemirror_mode": {
        "name": "ipython",
        "version": 3
      },
      "file_extension": ".py",
      "mimetype": "text/x-python",
      "name": "python",
      "nbconvert_exporter": "python",
      "pygments_lexer": "ipython3",
      "version": "3.8.5"
    },
    "colab": {
      "provenance": []
    }
  },
  "cells": [
    {
      "cell_type": "markdown",
      "metadata": {
        "id": "vxs2h6RArTBa"
      },
      "source": [
        "# shAI Training 2022 | Level 1\n",
        "\n",
        "\n",
        "## Task#9 (MNIST Project part 2)\n",
        "\n",
        "### Classification\n",
        "\n",
        "- Before you start make sure you have latest Jupyter notebook version\n",
        "- <font color= red> If you have older version fetching the data might be different  </font>\n"
      ]
    },
    {
      "cell_type": "code",
      "metadata": {
        "id": "dR41tAaxrTBi"
      },
      "source": [
        "import sklearn.datasets\n",
        "from sklearn.datasets import fetch_openml\n",
        "mnist =fetch_openml('mnist_784',as_frame=False,parser='auto')\n",
        "x, y = mnist[\"data\"], mnist[\"target\"]"
      ],
      "execution_count": 1,
      "outputs": []
    },
    {
      "cell_type": "markdown",
      "metadata": {
        "id": "cNzsxLvArTBk"
      },
      "source": [
        "#### peek at one digit"
      ]
    },
    {
      "cell_type": "code",
      "metadata": {
        "colab": {
          "base_uri": "https://localhost:8080/",
          "height": 406
        },
        "id": "DXg7k2bXrTBl",
        "outputId": "e9d2d95a-657f-4210-9d60-7dc6eddd1783"
      },
      "source": [
        "import matplotlib\n",
        "import matplotlib.pyplot as plt\n",
        "some_digit = x[40000]\n",
        "some_digit_image = some_digit.reshape(28, 28)\n",
        "plt.imshow(some_digit_image, cmap = matplotlib.cm.binary,interpolation=\"nearest\")\n",
        "plt.axis(\"off\")\n",
        "plt.show()"
      ],
      "execution_count": 2,
      "outputs": [
        {
          "output_type": "display_data",
          "data": {
            "text/plain": [
              "<Figure size 640x480 with 1 Axes>"
            ],
            "image/png": "[encoded data removed]"
          },
          "metadata": {}
        }
      ]
    },
    {
      "cell_type": "code",
      "metadata": {
        "id": "DLJfdeOprTBn"
      },
      "source": [
        "import numpy as np\n",
        "x_train, x_test, y_train, y_test = x[:60000], x[60000:], y[:60000], y[60000:]\n",
        "shuffle_index = np.random.permutation(60000)\n",
        "x_train, y_train = x_train[shuffle_index], y_train[shuffle_index]"
      ],
      "execution_count": 3,
      "outputs": []
    },
    {
      "cell_type": "code",
      "metadata": {
        "id": "CNjuU8EvrTBo"
      },
      "source": [
        "from sklearn.linear_model import SGDClassifier\n",
        "sgd_clf = SGDClassifier(random_state=42)"
      ],
      "execution_count": 4,
      "outputs": []
    },
    {
      "cell_type": "markdown",
      "metadata": {
        "id": "BVw_S__2rTBp"
      },
      "source": [
        "#### Try SGDCClassifier with multiple calss"
      ]
    },
    {
      "cell_type": "code",
      "source": [
        "sgd_clf=SGDClassifier(random_state=42)\n",
        "sgd_clf.fit(x_train,y_train)\n",
        "sgd_clf.predict([some_digit])"
      ],
      "metadata": {
        "id": "bRP3w5Maw8w5",
        "outputId": "df3d615a-ef11-42b3-ec25-a7d075270309",
        "colab": {
          "base_uri": "https://localhost:8080/"
        }
      },
      "execution_count": 5,
      "outputs": [
        {
          "output_type": "execute_result",
          "data": {
            "text/plain": [
              "array(['7'], dtype='<U1')"
            ]
          },
          "metadata": {},
          "execution_count": 5
        }
      ]
    },
    {
      "cell_type": "markdown",
      "metadata": {
        "id": "kE7UFx7OrTBr"
      },
      "source": [
        "#### Call decision_function() method to return score for each instance"
      ]
    },
    {
      "cell_type": "code",
      "source": [
        "some_digit_scores = sgd_clf.decision_function([some_digit])\n",
        "some_digit_scores.round(8)\n"
      ],
      "metadata": {
        "id": "I7JERBid7AR6",
        "outputId": "6a8d8901-e8a9-4324-b418-2334348a2a9d",
        "colab": {
          "base_uri": "https://localhost:8080/"
        }
      },
      "execution_count": 6,
      "outputs": [
        {
          "output_type": "execute_result",
          "data": {
            "text/plain": [
              "array([[-57845.26741278,  -9561.64306952, -17599.53414946,\n",
              "         -7085.55845485, -15490.8143221 , -24074.91008461,\n",
              "        -58788.71797726,  11010.27766481, -13246.00247981,\n",
              "         -3790.29431071]])"
            ]
          },
          "metadata": {},
          "execution_count": 6
        }
      ]
    },
    {
      "cell_type": "markdown",
      "metadata": {
        "id": "qORDmctWrTBt"
      },
      "source": [
        "#### find highest score"
      ]
    },
    {
      "cell_type": "code",
      "source": [
        "class_id = some_digit_scores.argmax()\n",
        "class_id"
      ],
      "metadata": {
        "id": "ysn6AYEF7spD",
        "outputId": "ac014626-f938-4c3e-bd14-d7cc1954181d",
        "colab": {
          "base_uri": "https://localhost:8080/"
        }
      },
      "execution_count": 7,
      "outputs": [
        {
          "output_type": "execute_result",
          "data": {
            "text/plain": [
              "7"
            ]
          },
          "metadata": {},
          "execution_count": 7
        }
      ]
    },
    {
      "cell_type": "markdown",
      "metadata": {
        "id": "FPz3QrbArTBu"
      },
      "source": [
        "#### list the target classes"
      ]
    },
    {
      "cell_type": "code",
      "source": [
        "sgd_clf.classes_\n"
      ],
      "metadata": {
        "id": "Wmls2jbd7xy9",
        "outputId": "725c8cc7-df9e-4936-b986-5be2b30a7de6",
        "colab": {
          "base_uri": "https://localhost:8080/"
        }
      },
      "execution_count": 8,
      "outputs": [
        {
          "output_type": "execute_result",
          "data": {
            "text/plain": [
              "array(['0', '1', '2', '3', '4', '5', '6', '7', '8', '9'], dtype='<U1')"
            ]
          },
          "metadata": {},
          "execution_count": 8
        }
      ]
    },
    {
      "cell_type": "markdown",
      "metadata": {
        "id": "2TbllQderTBv"
      },
      "source": [
        "#### Find the the target class for 7"
      ]
    },
    {
      "cell_type": "code",
      "source": [
        "sgd_clf.classes_[class_id]\n"
      ],
      "metadata": {
        "id": "WVJDWoIf77bh",
        "outputId": "31735dd4-e498-43c2-ba60-206a8280d843",
        "colab": {
          "base_uri": "https://localhost:8080/",
          "height": 36
        }
      },
      "execution_count": 9,
      "outputs": [
        {
          "output_type": "execute_result",
          "data": {
            "text/plain": [
              "'7'"
            ],
            "application/vnd.google.colaboratory.intrinsic+json": {
              "type": "string"
            }
          },
          "metadata": {},
          "execution_count": 9
        }
      ]
    },
    {
      "cell_type": "markdown",
      "metadata": {
        "id": "ujnFWm-RrTBx"
      },
      "source": [
        "#### Force ScikitLearn to use one-versus-one"
      ]
    },
    {
      "cell_type": "code",
      "metadata": {
        "id": "6zN2QYJ0rTBx"
      },
      "source": [
        "from sklearn.multiclass import OneVsOneClassifier"
      ],
      "execution_count": 10,
      "outputs": []
    },
    {
      "cell_type": "code",
      "source": [
        "ovr_clf=OneVsOneClassifier(SGDClassifier(random_state=42))\n",
        "ovr_clf.fit(x_train[:2000], y_train[:2000])\n",
        "ovr_clf.predict([some_digit])"
      ],
      "metadata": {
        "id": "GR_bURls8Cx1",
        "outputId": "26aa0204-f79a-4087-b57a-5771d2cc949e",
        "colab": {
          "base_uri": "https://localhost:8080/"
        }
      },
      "execution_count": 11,
      "outputs": [
        {
          "output_type": "execute_result",
          "data": {
            "text/plain": [
              "array(['7'], dtype=object)"
            ]
          },
          "metadata": {},
          "execution_count": 11
        }
      ]
    },
    {
      "cell_type": "markdown",
      "metadata": {
        "id": "kZcNpAenrTBy"
      },
      "source": [
        "#### find how many classifier OvO used"
      ]
    },
    {
      "cell_type": "code",
      "source": [
        "len(ovr_clf.estimators_)"
      ],
      "metadata": {
        "id": "buwf_cp18kOX",
        "outputId": "1e2b2406-107c-446a-e9fe-ca18c7f259ce",
        "colab": {
          "base_uri": "https://localhost:8080/"
        }
      },
      "execution_count": 12,
      "outputs": [
        {
          "output_type": "execute_result",
          "data": {
            "text/plain": [
              "45"
            ]
          },
          "metadata": {},
          "execution_count": 12
        }
      ]
    },
    {
      "cell_type": "markdown",
      "metadata": {
        "id": "jY_URTfErTBz"
      },
      "source": [
        "#### Train  RandomForestClassifier"
      ]
    },
    {
      "cell_type": "code",
      "metadata": {
        "id": "ij6mGZvWrTBz"
      },
      "source": [
        "from sklearn.ensemble import RandomForestClassifier\n",
        "forest_clf = RandomForestClassifier(random_state=42)"
      ],
      "execution_count": 13,
      "outputs": []
    },
    {
      "cell_type": "code",
      "source": [
        "forest_clf.fit(x_train[:2000], y_train[:2000])\n",
        "forest_clf.predict([some_digit])"
      ],
      "metadata": {
        "id": "q1uhVhVN8rJ5",
        "outputId": "dd338ad4-19fe-4f45-f94d-1467177857ca",
        "colab": {
          "base_uri": "https://localhost:8080/"
        }
      },
      "execution_count": 14,
      "outputs": [
        {
          "output_type": "execute_result",
          "data": {
            "text/plain": [
              "array(['7'], dtype=object)"
            ]
          },
          "metadata": {},
          "execution_count": 14
        }
      ]
    },
    {
      "cell_type": "markdown",
      "metadata": {
        "id": "RAF55oQtrTB1"
      },
      "source": [
        "#### call predict_proba() to get the list of probabilities that the classifier assigned to each instance for each class"
      ]
    },
    {
      "cell_type": "code",
      "metadata": {
        "id": "Irh9e-QbrTB1",
        "outputId": "841a2c82-a638-41ca-db28-eb65ce02471b",
        "colab": {
          "base_uri": "https://localhost:8080/"
        }
      },
      "source": [
        "forest_clf.predict_proba([some_digit])"
      ],
      "execution_count": 15,
      "outputs": [
        {
          "output_type": "execute_result",
          "data": {
            "text/plain": [
              "array([[0.  , 0.04, 0.02, 0.05, 0.1 , 0.02, 0.01, 0.66, 0.03, 0.07]])"
            ]
          },
          "metadata": {},
          "execution_count": 15
        }
      ]
    },
    {
      "cell_type": "markdown",
      "metadata": {
        "id": "ds_FKkd8rTB1"
      },
      "source": [
        "#### Find accurcy using cross validation score ()"
      ]
    },
    {
      "cell_type": "code",
      "metadata": {
        "id": "R4OUbQutrTB2"
      },
      "source": [
        "from sklearn.model_selection import cross_val_score"
      ],
      "execution_count": 16,
      "outputs": []
    },
    {
      "cell_type": "code",
      "source": [
        "cross_val_score(sgd_clf, x_train, y_train, cv=3,scoring=\"accuracy\")"
      ],
      "metadata": {
        "id": "TRKTncXK80XA",
        "outputId": "c973aad1-61fd-48d9-88c1-1286d4ec495c",
        "colab": {
          "base_uri": "https://localhost:8080/"
        }
      },
      "execution_count": 17,
      "outputs": [
        {
          "output_type": "execute_result",
          "data": {
            "text/plain": [
              "array([0.8769 , 0.87515, 0.84955])"
            ]
          },
          "metadata": {},
          "execution_count": 17
        }
      ]
    },
    {
      "cell_type": "markdown",
      "metadata": {
        "id": "-jzw9z22rTB2"
      },
      "source": [
        "#### to get better accurcy try scaling input"
      ]
    },
    {
      "cell_type": "code",
      "metadata": {
        "id": "Z87Bmth8rTB3"
      },
      "source": [
        "from sklearn.preprocessing import StandardScaler"
      ],
      "execution_count": 18,
      "outputs": []
    },
    {
      "cell_type": "code",
      "source": [
        "scaler = StandardScaler()\n",
        "x_train_scaled =scaler.fit_transform(x_train.astype(\"float64\"))\n",
        "cross_val_score(sgd_clf, x_train_scaled, y_train, cv=3,scoring=\"accuracy\")\n"
      ],
      "metadata": {
        "id": "eN6DjflR-MXg",
        "outputId": "0e89cc0c-a773-4d47-b881-bd55567f0ed2",
        "colab": {
          "base_uri": "https://localhost:8080/"
        }
      },
      "execution_count": 19,
      "outputs": [
        {
          "output_type": "execute_result",
          "data": {
            "text/plain": [
              "array([0.8967 , 0.90155, 0.90885])"
            ]
          },
          "metadata": {},
          "execution_count": 19
        }
      ]
    },
    {
      "cell_type": "markdown",
      "metadata": {
        "id": "hoevqgexrTB4"
      },
      "source": [
        "## Error Analysis"
      ]
    },
    {
      "cell_type": "markdown",
      "metadata": {
        "id": "oJRRCJzXrTB4"
      },
      "source": [
        "#### Take a look at the confusion matrix"
      ]
    },
    {
      "cell_type": "code",
      "metadata": {
        "id": "QjEb7wMMrTB4"
      },
      "source": [
        "from sklearn.model_selection import cross_val_predict\n",
        "from sklearn.metrics import confusion_matrix"
      ],
      "execution_count": 20,
      "outputs": []
    },
    {
      "cell_type": "code",
      "source": [
        "y_train_pred = cross_val_predict(sgd_clf, x_train_scaled,y_train, cv=3)\n",
        "confusion_ma=confusion_matrix(y_train,y_train_pred)"
      ],
      "metadata": {
        "id": "IYPKVWZwBxdq"
      },
      "execution_count": 21,
      "outputs": []
    },
    {
      "cell_type": "code",
      "source": [
        "confusion_ma"
      ],
      "metadata": {
        "id": "velLaHFHLUZI",
        "outputId": "86adc913-0bf2-4bf0-b164-48b46406c731",
        "colab": {
          "base_uri": "https://localhost:8080/"
        }
      },
      "execution_count": 22,
      "outputs": [
        {
          "output_type": "execute_result",
          "data": {
            "text/plain": [
              "array([[5598,    0,   14,   10,    9,   39,   34,    7,  211,    1],\n",
              "       [   0, 6404,   42,   25,    3,   44,    5,    9,  203,    7],\n",
              "       [  23,   27, 5251,   99,   73,   28,   67,   41,  340,    9],\n",
              "       [  25,   18,  113, 5279,    1,  204,   27,   41,  358,   65],\n",
              "       [  11,   14,   40,   13, 5266,    8,   34,   20,  288,  148],\n",
              "       [  25,   17,   33,  160,   52, 4495,   79,   15,  484,   61],\n",
              "       [  27,   14,   51,    3,   41,   90, 5564,    4,  124,    0],\n",
              "       [  20,   12,   54,   26,   50,   13,    4, 5733,  148,  205],\n",
              "       [  15,   65,   40,  105,    2,  118,   32,    9, 5419,   46],\n",
              "       [  28,   20,   26,   68,  132,   35,    1,  178,  328, 5133]])"
            ]
          },
          "metadata": {},
          "execution_count": 22
        }
      ]
    },
    {
      "cell_type": "markdown",
      "metadata": {
        "id": "hBHF2iJWrTB5"
      },
      "source": [
        "#### using Matplotlib’s matshow() function look at an image representation of the confusion matrix"
      ]
    },
    {
      "cell_type": "code",
      "source": [
        "import matplotlib.pyplot as plt\n",
        "\n",
        "plt.matshow(confusion_ma, cmap=plt.cm.get_cmap('gray'))\n",
        "plt.show()\n"
      ],
      "metadata": {
        "id": "hTowgQFuLX-H",
        "outputId": "235deb1f-b9a1-433c-b018-c439fb80bd33",
        "colab": {
          "base_uri": "https://localhost:8080/",
          "height": 494
        }
      },
      "execution_count": 23,
      "outputs": [
        {
          "output_type": "stream",
          "name": "stderr",
          "text": [
            "<ipython-input-23-3ecfd1daef6d>:3: MatplotlibDeprecationWarning: The get_cmap function was deprecated in Matplotlib 3.7 and will be removed two minor releases later. Use ``matplotlib.colormaps[name]`` or ``matplotlib.colormaps.get_cmap(obj)`` instead.\n",
            "  plt.matshow(confusion_ma, cmap=plt.cm.get_cmap('gray'))\n"
          ]
        },
        {
          "output_type": "display_data",
          "data": {
            "text/plain": [
              "<Figure size 480x480 with 1 Axes>"
            ],
            "image/png": "[encoded data removed]"
          },
          "metadata": {}
        }
      ]
    },
    {
      "cell_type": "markdown",
      "metadata": {
        "id": "Xm6cFW72rTB6"
      },
      "source": [
        "#### Dividing each value in the confusion matrix by the number of images in the corresponding class"
      ]
    },
    {
      "cell_type": "code",
      "metadata": {
        "id": "hNDkHceZrTB6"
      },
      "source": [
        "row_sums = confusion_ma.sum(axis=1, keepdims=True)\n",
        "norm_conf_mx = confusion_ma / row_sums"
      ],
      "execution_count": 24,
      "outputs": []
    },
    {
      "cell_type": "markdown",
      "metadata": {
        "id": "7wdHyF8urTB6"
      },
      "source": [
        "#### fill the diagonal with zeros to keep only the errors"
      ]
    },
    {
      "cell_type": "code",
      "source": [
        "import numpy as np\n",
        "import matplotlib.pyplot as plt\n",
        "\n",
        "confusion_array = np.array(confusion_ma)\n",
        "\n",
        "np.fill_diagonal(confusion_array, 0)\n",
        "\n",
        "plt.matshow(confusion_array, cmap=plt.cm.get_cmap('gray'))\n",
        "\n",
        "plt.show()\n"
      ],
      "metadata": {
        "id": "uI3WChkmNYcl",
        "outputId": "67827300-27d6-4e48-f9e7-01c733e436b5",
        "colab": {
          "base_uri": "https://localhost:8080/",
          "height": 494
        }
      },
      "execution_count": 25,
      "outputs": [
        {
          "output_type": "stream",
          "name": "stderr",
          "text": [
            "<ipython-input-25-a15912dd98c7>:8: MatplotlibDeprecationWarning: The get_cmap function was deprecated in Matplotlib 3.7 and will be removed two minor releases later. Use ``matplotlib.colormaps[name]`` or ``matplotlib.colormaps.get_cmap(obj)`` instead.\n",
            "  plt.matshow(confusion_array, cmap=plt.cm.get_cmap('gray'))\n"
          ]
        },
        {
          "output_type": "display_data",
          "data": {
            "text/plain": [
              "<Figure size 480x480 with 1 Axes>"
            ],
            "image/png": "[encoded data removed]"
          },
          "metadata": {}
        }
      ]
    },
    {
      "cell_type": "code",
      "metadata": {
        "id": "D0l_VaVgrTB7"
      },
      "source": [
        "def plot_digits(instances, images_per_row=10, **options):\n",
        "    size = 28\n",
        "    images_per_row = min(len(instances), images_per_row)\n",
        "    images = [instance.reshape(size,size) for instance in instances]\n",
        "    n_rows = (len(instances) - 1) // images_per_row + 1\n",
        "    row_images = []\n",
        "    n_empty = n_rows * images_per_row - len(instances)\n",
        "    images.append(np.zeros((size, size * n_empty)))\n",
        "    for row in range(n_rows):\n",
        "        rimages = images[row * images_per_row : (row + 1) * images_per_row]\n",
        "        row_images.append(np.concatenate(rimages, axis=1))\n",
        "    image = np.concatenate(row_images, axis=0)\n",
        "    plt.imshow(image, cmap = matplotlib.cm.binary, **options)\n",
        "    plt.axis(\"off\")"
      ],
      "execution_count": 26,
      "outputs": []
    },
    {
      "cell_type": "code",
      "metadata": {
        "id": "2H_6XdKerTB8",
        "outputId": "7b5d1d02-38e6-454b-917e-138f9ad61d3a",
        "colab": {
          "base_uri": "https://localhost:8080/",
          "height": 653
        }
      },
      "source": [
        "cl_a, cl_b = '3', '5'\n",
        "X_aa = x_train[(y_train == cl_a) & (y_train_pred == cl_a)]\n",
        "X_ab = x_train[(y_train == cl_a) & (y_train_pred == cl_b)]\n",
        "X_ba = x_train[(y_train == cl_b) & (y_train_pred == cl_a)]\n",
        "X_bb = x_train[(y_train == cl_b) & (y_train_pred == cl_b)]\n",
        "plt.figure(figsize=(8,8))\n",
        "plt.subplot(221); plot_digits(X_aa[:25], images_per_row=5)\n",
        "plt.subplot(222); plot_digits(X_ab[:25], images_per_row=5)\n",
        "plt.subplot(223); plot_digits(X_ba[:25], images_per_row=5)\n",
        "plt.subplot(224); plot_digits(X_bb[:25], images_per_row=5)\n",
        "plt.show()\n"
      ],
      "execution_count": 27,
      "outputs": [
        {
          "output_type": "display_data",
          "data": {
            "text/plain": [
              "<Figure size 800x800 with 4 Axes>"
            ],
            "image/png": "[encoded data removed]"
          },
          "metadata": {}
        }
      ]
    },
    {
      "cell_type": "markdown",
      "metadata": {
        "id": "dCLTtG50rTB9"
      },
      "source": [
        "## Multilabel Classification"
      ]
    },
    {
      "cell_type": "markdown",
      "metadata": {
        "id": "CRVGta9irTB9"
      },
      "source": [
        "#### creates a y_multilabel array containing two target labels for each digit image"
      ]
    },
    {
      "cell_type": "code",
      "metadata": {
        "id": "ImrC91BPrTB9",
        "outputId": "d7dce937-ec15-4a7b-a675-3e69a83ad4ec",
        "colab": {
          "base_uri": "https://localhost:8080/",
          "height": 74
        }
      },
      "source": [
        "from sklearn.neighbors import KNeighborsClassifier\n",
        "y_train_large = (y_train >= '7')\n",
        "y_train_odd = (y_train == '1')\n",
        "y_multilabel = np.c_[y_train_large, y_train_odd]\n",
        "knn_clf = KNeighborsClassifier()\n",
        "knn_clf.fit(x_train, y_multilabel)"
      ],
      "execution_count": 28,
      "outputs": [
        {
          "output_type": "execute_result",
          "data": {
            "text/plain": [
              "KNeighborsClassifier()"
            ],
            "text/html": [
              "<style>#sk-container-id-1 {color: black;background-color: white;}#sk-container-id-1 pre{padding: 0;}#sk-container-id-1 div.sk-toggleable {background-color: white;}#sk-container-id-1 label.sk-toggleable__label {cursor: pointer;display: block;width: 100%;margin-bottom: 0;padding: 0.3em;box-sizing: border-box;text-align: center;}#sk-container-id-1 label.sk-toggleable__label-arrow:before {content: \"▸\";float: left;margin-right: 0.25em;color: #696969;}#sk-container-id-1 label.sk-toggleable__label-arrow:hover:before {color: black;}#sk-container-id-1 div.sk-estimator:hover label.sk-toggleable__label-arrow:before {color: black;}#sk-container-id-1 div.sk-toggleable__content {max-height: 0;max-width: 0;overflow: hidden;text-align: left;background-color: #f0f8ff;}#sk-container-id-1 div.sk-toggleable__content pre {margin: 0.2em;color: black;border-radius: 0.25em;background-color: #f0f8ff;}#sk-container-id-1 input.sk-toggleable__control:checked~div.sk-toggleable__content {max-height: 200px;max-width: 100%;overflow: auto;}#sk-container-id-1 input.sk-toggleable__control:checked~label.sk-toggleable__label-arrow:before {content: \"▾\";}#sk-container-id-1 div.sk-estimator input.sk-toggleable__control:checked~label.sk-toggleable__label {background-color: #d4ebff;}#sk-container-id-1 div.sk-label input.sk-toggleable__control:checked~label.sk-toggleable__label {background-color: #d4ebff;}#sk-container-id-1 input.sk-hidden--visually {border: 0;clip: rect(1px 1px 1px 1px);clip: rect(1px, 1px, 1px, 1px);height: 1px;margin: -1px;overflow: hidden;padding: 0;position: absolute;width: 1px;}#sk-container-id-1 div.sk-estimator {font-family: monospace;background-color: #f0f8ff;border: 1px dotted black;border-radius: 0.25em;box-sizing: border-box;margin-bottom: 0.5em;}#sk-container-id-1 div.sk-estimator:hover {background-color: #d4ebff;}#sk-container-id-1 div.sk-parallel-item::after {content: \"\";width: 100%;border-bottom: 1px solid gray;flex-grow: 1;}#sk-container-id-1 div.sk-label:hover label.sk-toggleable__label {background-color: #d4ebff;}#sk-container-id-1 div.sk-serial::before {content: \"\";position: absolute;border-left: 1px solid gray;box-sizing: border-box;top: 0;bottom: 0;left: 50%;z-index: 0;}#sk-container-id-1 div.sk-serial {display: flex;flex-direction: column;align-items: center;background-color: white;padding-right: 0.2em;padding-left: 0.2em;position: relative;}#sk-container-id-1 div.sk-item {position: relative;z-index: 1;}#sk-container-id-1 div.sk-parallel {display: flex;align-items: stretch;justify-content: center;background-color: white;position: relative;}#sk-container-id-1 div.sk-item::before, #sk-container-id-1 div.sk-parallel-item::before {content: \"\";position: absolute;border-left: 1px solid gray;box-sizing: border-box;top: 0;bottom: 0;left: 50%;z-index: -1;}#sk-container-id-1 div.sk-parallel-item {display: flex;flex-direction: column;z-index: 1;position: relative;background-color: white;}#sk-container-id-1 div.sk-parallel-item:first-child::after {align-self: flex-end;width: 50%;}#sk-container-id-1 div.sk-parallel-item:last-child::after {align-self: flex-start;width: 50%;}#sk-container-id-1 div.sk-parallel-item:only-child::after {width: 0;}#sk-container-id-1 div.sk-dashed-wrapped {border: 1px dashed gray;margin: 0 0.4em 0.5em 0.4em;box-sizing: border-box;padding-bottom: 0.4em;background-color: white;}#sk-container-id-1 div.sk-label label {font-family: monospace;font-weight: bold;display: inline-block;line-height: 1.2em;}#sk-container-id-1 div.sk-label-container {text-align: center;}#sk-container-id-1 div.sk-container {/* jupyter's `normalize.less` sets `[hidden] { display: none; }` but bootstrap.min.css set `[hidden] { display: none !important; }` so we also need the `!important` here to be able to override the default hidden behavior on the sphinx rendered scikit-learn.org. See: https://github.com/scikit-learn/scikit-learn/issues/21755 */display: inline-block !important;position: relative;}#sk-container-id-1 div.sk-text-repr-fallback {display: none;}</style><div id=\"sk-container-id-1\" class=\"sk-top-container\"><div class=\"sk-text-repr-fallback\"><pre>KNeighborsClassifier()</pre><b>In a Jupyter environment, please rerun this cell to show the HTML representation or trust the notebook. <br />On GitHub, the HTML representation is unable to render, please try loading this page with nbviewer.org.</b></div><div class=\"sk-container\" hidden><div class=\"sk-item\"><div class=\"sk-estimator sk-toggleable\"><input class=\"sk-toggleable__control sk-hidden--visually\" id=\"sk-estimator-id-1\" type=\"checkbox\" checked><label for=\"sk-estimator-id-1\" class=\"sk-toggleable__label sk-toggleable__label-arrow\">KNeighborsClassifier</label><div class=\"sk-toggleable__content\"><pre>KNeighborsClassifier()</pre></div></div></div></div></div>"
            ]
          },
          "metadata": {},
          "execution_count": 28
        }
      ]
    },
    {
      "cell_type": "markdown",
      "metadata": {
        "id": "nJcwu7UfrTB-"
      },
      "source": [
        "#### find the prediction"
      ]
    },
    {
      "cell_type": "code",
      "source": [
        "knn_clf.predict([some_digit])"
      ],
      "metadata": {
        "id": "G0YFswHZOA6b",
        "outputId": "0a22d34d-bc17-4f40-8d6c-a248e22ec499",
        "colab": {
          "base_uri": "https://localhost:8080/"
        }
      },
      "execution_count": 29,
      "outputs": [
        {
          "output_type": "execute_result",
          "data": {
            "text/plain": [
              "array([[ True, False]])"
            ]
          },
          "metadata": {},
          "execution_count": 29
        }
      ]
    },
    {
      "cell_type": "markdown",
      "metadata": {
        "id": "ymiEXPfprTB-"
      },
      "source": [
        "#### computes the average F1 score across all labels\n",
        "***Warning: the following cell may take a very long time (possibly hours depending on your hardware)***"
      ]
    },
    {
      "cell_type": "code",
      "metadata": {
        "id": "tOrUjiMgrTB-",
        "outputId": "6984139b-6ec5-4dbd-9a3d-11759a6ae808",
        "colab": {
          "base_uri": "https://localhost:8080/"
        }
      },
      "source": [
        "from sklearn.metrics import f1_score\n",
        "y_train_knn_pred = cross_val_predict(knn_clf, x_train, y_train, cv=3)\n",
        "f1_score(y_train, y_train_knn_pred, average=\"macro\")"
      ],
      "execution_count": 30,
      "outputs": [
        {
          "output_type": "execute_result",
          "data": {
            "text/plain": [
              "0.9684336889030654"
            ]
          },
          "metadata": {},
          "execution_count": 30
        }
      ]
    },
    {
      "cell_type": "markdown",
      "metadata": {
        "id": "cWLtvNU5rTB_"
      },
      "source": [
        "## Multioutput Classification\n"
      ]
    },
    {
      "cell_type": "code",
      "metadata": {
        "id": "2FS4erJ1rTB_"
      },
      "source": [
        "noise = np.random.randint(0, 100, (len(x_train), 784))\n",
        "X_train_mod = x_train + noise\n",
        "noise = np.random.randint(0, 100, (len(x_test), 784))\n",
        "X_test_mod = x_test + noise\n",
        "y_train_mod = x_train\n",
        "y_test_mod = x_test"
      ],
      "execution_count": 31,
      "outputs": []
    },
    {
      "cell_type": "markdown",
      "metadata": {
        "id": "7kqvQk1qrTB_"
      },
      "source": [
        "#### Let’s take a peek at an image from the test set"
      ]
    },
    {
      "cell_type": "code",
      "source": [
        "np.random.seed(42) # to make this code example reproducible\n",
        "noise = np.random.randint(0, 100, (len(x_train), 784))\n",
        "X_train_mod = x_train + noise\n",
        "noise = np.random.randint(0, 100, (len(x_test), 784))\n",
        "X_test_mod = x_test + noise\n",
        "y_train_mod = x_train\n",
        "y_test_mod = x_test\n"
      ],
      "metadata": {
        "id": "jy0oQIaQQm3r"
      },
      "execution_count": 32,
      "outputs": []
    },
    {
      "cell_type": "code",
      "source": [
        "from sklearn.neighbors import KNeighborsClassifier\n",
        "import matplotlib.pyplot as plt\n",
        "knn_clf = KNeighborsClassifier()\n",
        "knn_clf.fit(X_train_mod, y_train_mod)\n",
        "clean_digit = knn_clf.predict([X_test_mod[0]])\n",
        "plot_digits(clean_digit)\n",
        "plt.show()\n"
      ],
      "metadata": {
        "id": "ZKE68DO8QXMC",
        "outputId": "a06ca8f2-158b-441d-8206-366cbce9e85b",
        "colab": {
          "base_uri": "https://localhost:8080/",
          "height": 406
        }
      },
      "execution_count": 33,
      "outputs": [
        {
          "output_type": "display_data",
          "data": {
            "text/plain": [
              "<Figure size 640x480 with 1 Axes>"
            ],
            "image/png": "[encoded data removed]"
          },
          "metadata": {}
        }
      ]
    },
    {
      "cell_type": "markdown",
      "metadata": {
        "id": "IsM8nCFCrTCA"
      },
      "source": [
        "# Congrats you've finished your first classification Project🥳 !\n",
        "# #shAI_Club"
      ]
    }
  ]
}